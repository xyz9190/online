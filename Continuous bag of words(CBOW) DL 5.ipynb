{
 "cells": [
  {
   "cell_type": "code",
   "execution_count": 1,
   "id": "b40a5b12",
   "metadata": {},
   "outputs": [],
   "source": [
    "# Importing the required libraries for the CBOW model\n",
    "from keras.preprocessing import text\n",
    "from tensorflow.keras.utils import to_categorical\n",
    "from keras.preprocessing import sequence\n",
    "from keras.utils import pad_sequences\n",
    "import numpy as np\n",
    "import pandas as pd"
   ]
  },
  {
   "cell_type": "code",
   "execution_count": 2,
   "id": "ca11bd22",
   "metadata": {},
   "outputs": [],
   "source": [
    "# Sample data for training the CBOW model\n",
    "data = \"\"\"Deep learning (also known as deep structured learning) is part of a broader family of machine learning methods based on artificial neural networks with representation learning. Learning can be supervised, semi-supervised or unsupervised.\n",
    "Deep-learning architectures such as deep neural networks, deep belief networks, deep reinforcement learning, recurrent neural networks, convolutional neural networks and Transformers have been applied to fields including computer vision, speech recognition, natural language processing, machine translation, bioinformatics, drug design, medical image analysis, climate science, material inspection and board game programs, where they have produced results comparable to and in some cases surpassing human expert performance.\n",
    "\"\"\"\n",
    "\n",
    "# Split the text data into words\n",
    "dl_data = data.split()"
   ]
  },
  {
   "cell_type": "code",
   "execution_count": 3,
   "id": "44886e16",
   "metadata": {},
   "outputs": [
    {
     "name": "stdout",
     "output_type": "stream",
     "text": [
      "['Deep', 'learning', '(also', 'known', 'as', 'deep', 'structured', 'learning)', 'is', 'part', 'of', 'a', 'broader', 'family', 'of', 'machine', 'learning', 'methods', 'based', 'on', 'artificial', 'neural', 'networks', 'with', 'representation', 'learning.', 'Learning', 'can', 'be', 'supervised,', 'semi-supervised', 'or', 'unsupervised.', 'Deep-learning', 'architectures', 'such', 'as', 'deep', 'neural', 'networks,', 'deep', 'belief', 'networks,', 'deep', 'reinforcement', 'learning,', 'recurrent', 'neural', 'networks,', 'convolutional', 'neural', 'networks', 'and', 'Transformers', 'have', 'been', 'applied', 'to', 'fields', 'including', 'computer', 'vision,', 'speech', 'recognition,', 'natural', 'language', 'processing,', 'machine', 'translation,', 'bioinformatics,', 'drug', 'design,', 'medical', 'image', 'analysis,', 'climate', 'science,', 'material', 'inspection', 'and', 'board', 'game', 'programs,', 'where', 'they', 'have', 'produced', 'results', 'comparable', 'to', 'and', 'in', 'some', 'cases', 'surpassing', 'human', 'expert', 'performance.']\n"
     ]
    }
   ],
   "source": [
    "print(dl_data)"
   ]
  },
  {
   "cell_type": "code",
   "execution_count": 4,
   "id": "165ddca3",
   "metadata": {},
   "outputs": [
    {
     "name": "stdout",
     "output_type": "stream",
     "text": [
      "Vocabulary Size: 75\n",
      "Vocabulary Sample: [('learning', 1), ('deep', 2), ('networks', 3), ('neural', 4), ('and', 5), ('as', 6), ('of', 7), ('machine', 8), ('supervised', 9), ('have', 10)]\n"
     ]
    }
   ],
   "source": [
    "# Tokenization and vocabulary preparation\n",
    "tokenizer = text.Tokenizer()\n",
    "tokenizer.fit_on_texts(dl_data)  # Tokenize the words in your data\n",
    "word2id = tokenizer.word_index  # Create a dictionary mapping words to unique IDs\n",
    "\n",
    "# Add a special 'PAD' token with ID 0 for padding\n",
    "word2id['PAD'] = 0\n",
    "id2word = {v: k for k, v in word2id.items()}  # Create a reverse dictionary for mapping IDs to words\n",
    "\n",
    "# Convert the words in your data to their corresponding IDs\n",
    "wids = [[word2id[w] for w in text.text_to_word_sequence(doc)] for doc in dl_data]\n",
    "\n",
    "# Get the vocabulary size, embedding size, and window size\n",
    "vocab_size = len(word2id)\n",
    "embed_size = 100\n",
    "window_size = 2\n",
    "\n",
    "# Print the vocabulary size and a sample of the word-to-ID mapping\n",
    "print('Vocabulary Size:', vocab_size)\n",
    "print('Vocabulary Sample:', list(word2id.items())[:10])"
   ]
  },
  {
   "cell_type": "code",
   "execution_count": 5,
   "id": "c5dd6168",
   "metadata": {},
   "outputs": [],
   "source": [
    "# Function to generate (context word, target/label word) pairs\n",
    "def generate_context_word_pairs(corpus, window_size, vocab_size):\n",
    "    context_length = window_size * 2\n",
    "    for words in corpus:\n",
    "        sentence_length = len(words)\n",
    "        for index, word in enumerate(words):\n",
    "            context_words = []\n",
    "            label_word = []\n",
    "            start = index - window_size\n",
    "            end = index + window_size + 1\n",
    "\n",
    "            context_words.append([words[i] for i in range(start, end) if 0 <= i < sentence_length and i != index])\n",
    "            label_word.append(word)\n",
    "\n",
    "            x = pad_sequences(context_words, maxlen=context_length)  # Pad the context words\n",
    "            y = to_categorical(label_word, vocab_size)  # Create a one-hot encoded label\n",
    "            yield (x, y)\n",
    "\n",
    "# Iterate through the generated (context, target) pairs\n",
    "i = 0\n",
    "for x, y in generate_context_word_pairs(corpus=wids, window_size=window_size, vocab_size=vocab_size):\n",
    "    if 0 not in x[0]:\n",
    "        # Uncomment the line below to print context and target words\n",
    "        # print('Context (X):', [id2word[w] for w in x[0]], '-> Target (Y):', id2word[np.argwhere(y[0])[0][0]])\n",
    "\n",
    "        if i == 10:\n",
    "            break\n",
    "        i += 1"
   ]
  },
  {
   "cell_type": "code",
   "execution_count": 6,
   "id": "6ee649ef",
   "metadata": {},
   "outputs": [
    {
     "name": "stdout",
     "output_type": "stream",
     "text": [
      "Model: \"sequential\"\n",
      "_________________________________________________________________\n",
      " Layer (type)                Output Shape              Param #   \n",
      "=================================================================\n",
      " embedding (Embedding)       (None, 4, 100)            7500      \n",
      "                                                                 \n",
      " lambda (Lambda)             (None, 100)               0         \n",
      "                                                                 \n",
      " dense (Dense)               (None, 75)                7575      \n",
      "                                                                 \n",
      "=================================================================\n",
      "Total params: 15075 (58.89 KB)\n",
      "Trainable params: 15075 (58.89 KB)\n",
      "Non-trainable params: 0 (0.00 Byte)\n",
      "_________________________________________________________________\n",
      "None\n"
     ]
    }
   ],
   "source": [
    "# Import necessary libraries for building the model\n",
    "import keras.backend as K\n",
    "from keras.models import Sequential\n",
    "from keras.layers import Dense, Embedding, Lambda\n",
    "\n",
    "# Create a Sequential model for CBOW\n",
    "cbow = Sequential()\n",
    "\n",
    "# Add an Embedding layer to convert word IDs to word vectors\n",
    "cbow.add(Embedding(input_dim=vocab_size, output_dim=embed_size, input_length=window_size * 2))\n",
    "\n",
    "# Add a Lambda layer to compute the mean of word vectors\n",
    "cbow.add(Lambda(lambda x: K.mean(x, axis=1), output_shape=(embed_size,)))\n",
    "\n",
    "# Add a Dense layer for the output with softmax activation\n",
    "cbow.add(Dense(vocab_size, activation='softmax'))\n",
    "\n",
    "# Compile the model with appropriate loss and optimizer\n",
    "cbow.compile(loss='categorical_crossentropy', optimizer='rmsprop')\n",
    "\n",
    "# Print a summary of the model's architecture\n",
    "print(cbow.summary())"
   ]
  },
  {
   "cell_type": "code",
   "execution_count": 7,
   "id": "a93c60ca",
   "metadata": {},
   "outputs": [
    {
     "name": "stdout",
     "output_type": "stream",
     "text": [
      "Epoch: 1 \tLoss: 433.6321630477905\n",
      "\n",
      "Epoch: 2 \tLoss: 429.3529932498932\n",
      "\n",
      "Epoch: 3 \tLoss: 426.25501465797424\n",
      "\n",
      "Epoch: 4 \tLoss: 423.2095785140991\n",
      "\n",
      "Epoch: 5 \tLoss: 420.6648395061493\n",
      "\n"
     ]
    }
   ],
   "source": [
    "# Training the CBOW model and storing loss values in a list\n",
    "loss_values = []\n",
    "\n",
    "for epoch in range(1, 6):\n",
    "    loss = 0.\n",
    "    i = 0\n",
    "\n",
    "    # Iterate through the generated (context, target) pairs\n",
    "    for x, y in generate_context_word_pairs(corpus=wids, window_size=window_size, vocab_size=vocab_size):\n",
    "        i += 1\n",
    "        loss += cbow.train_on_batch(x, y)  # Train the model on a batch\n",
    "\n",
    "        # Print progress after processing a certain number of pairs\n",
    "        if i % 100000 == 0:\n",
    "            print('Processed {} (context, word) pairs'.format(i))\n",
    "    loss_values.append(loss)\n",
    "    # Print the loss at the end of each epoch\n",
    "    print('Epoch:', epoch, '\\tLoss:', loss)\n",
    "    print()"
   ]
  },
  {
   "cell_type": "code",
   "execution_count": 8,
   "id": "c237734d",
   "metadata": {},
   "outputs": [
    {
     "data": {
      "image/png": "[encoded data removed]",
      "text/plain": [
       "<Figure size 640x480 with 1 Axes>"
      ]
     },
     "metadata": {},
     "output_type": "display_data"
    }
   ],
   "source": [
    "import matplotlib.pyplot as plt\n",
    "\n",
    "# Create a list of epochs\n",
    "epochs = range(1, len(loss_values) + 1)\n",
    "\n",
    "# Plot the loss curve\n",
    "plt.plot(epochs, loss_values, marker='o')\n",
    "plt.title('Loss Curve')\n",
    "plt.xlabel('Epoch')\n",
    "plt.ylabel('Loss')\n",
    "plt.grid(True)\n",
    "plt.show()"
   ]
  },
  {
   "cell_type": "code",
   "execution_count": 9,
   "id": "d13f40a7",
   "metadata": {},
   "outputs": [
    {
     "name": "stdout",
     "output_type": "stream",
     "text": [
      "(74, 100)\n"
     ]
    },
    {
     "data": {
      "text/html": [
       "<div>\n",
       "<style scoped>\n",
       "    .dataframe tbody tr th:only-of-type {\n",
       "        vertical-align: middle;\n",
       "    }\n",
       "\n",
       "    .dataframe tbody tr th {\n",
       "        vertical-align: top;\n",
       "    }\n",
       "\n",
       "    .dataframe thead th {\n",
       "        text-align: right;\n",
       "    }\n",
       "</style>\n",
       "<table border=\"1\" class=\"dataframe\">\n",
       "  <thead>\n",
       "    <tr style=\"text-align: right;\">\n",
       "      <th></th>\n",
       "      <th>0</th>\n",
       "      <th>1</th>\n",
       "      <th>2</th>\n",
       "      <th>3</th>\n",
       "      <th>4</th>\n",
       "      <th>5</th>\n",
       "      <th>6</th>\n",
       "      <th>7</th>\n",
       "      <th>8</th>\n",
       "      <th>9</th>\n",
       "      <th>...</th>\n",
       "      <th>90</th>\n",
       "      <th>91</th>\n",
       "      <th>92</th>\n",
       "      <th>93</th>\n",
       "      <th>94</th>\n",
       "      <th>95</th>\n",
       "      <th>96</th>\n",
       "      <th>97</th>\n",
       "      <th>98</th>\n",
       "      <th>99</th>\n",
       "    </tr>\n",
       "  </thead>\n",
       "  <tbody>\n",
       "    <tr>\n",
       "      <th>deep</th>\n",
       "      <td>0.005739</td>\n",
       "      <td>0.025781</td>\n",
       "      <td>-0.027626</td>\n",
       "      <td>0.032584</td>\n",
       "      <td>-0.015444</td>\n",
       "      <td>-0.027505</td>\n",
       "      <td>0.041894</td>\n",
       "      <td>0.056641</td>\n",
       "      <td>-0.017809</td>\n",
       "      <td>-0.003654</td>\n",
       "      <td>...</td>\n",
       "      <td>0.042867</td>\n",
       "      <td>0.017867</td>\n",
       "      <td>-0.036256</td>\n",
       "      <td>0.057751</td>\n",
       "      <td>-0.040862</td>\n",
       "      <td>-0.042978</td>\n",
       "      <td>-0.017873</td>\n",
       "      <td>-0.030481</td>\n",
       "      <td>-0.064871</td>\n",
       "      <td>-0.017290</td>\n",
       "    </tr>\n",
       "    <tr>\n",
       "      <th>networks</th>\n",
       "      <td>-0.029679</td>\n",
       "      <td>-0.031212</td>\n",
       "      <td>-0.059531</td>\n",
       "      <td>-0.010009</td>\n",
       "      <td>0.003809</td>\n",
       "      <td>-0.062140</td>\n",
       "      <td>-0.012975</td>\n",
       "      <td>0.041037</td>\n",
       "      <td>-0.019199</td>\n",
       "      <td>-0.035740</td>\n",
       "      <td>...</td>\n",
       "      <td>0.050795</td>\n",
       "      <td>-0.019556</td>\n",
       "      <td>-0.020374</td>\n",
       "      <td>0.009510</td>\n",
       "      <td>0.021349</td>\n",
       "      <td>0.012413</td>\n",
       "      <td>0.008800</td>\n",
       "      <td>-0.059738</td>\n",
       "      <td>0.025378</td>\n",
       "      <td>-0.005009</td>\n",
       "    </tr>\n",
       "    <tr>\n",
       "      <th>neural</th>\n",
       "      <td>-0.047497</td>\n",
       "      <td>-0.033008</td>\n",
       "      <td>0.023422</td>\n",
       "      <td>0.043261</td>\n",
       "      <td>-0.023662</td>\n",
       "      <td>0.012733</td>\n",
       "      <td>-0.022073</td>\n",
       "      <td>-0.033177</td>\n",
       "      <td>-0.008469</td>\n",
       "      <td>-0.049070</td>\n",
       "      <td>...</td>\n",
       "      <td>0.009073</td>\n",
       "      <td>0.023202</td>\n",
       "      <td>0.034181</td>\n",
       "      <td>0.023957</td>\n",
       "      <td>-0.000832</td>\n",
       "      <td>0.040245</td>\n",
       "      <td>-0.037643</td>\n",
       "      <td>-0.010673</td>\n",
       "      <td>-0.024790</td>\n",
       "      <td>-0.031705</td>\n",
       "    </tr>\n",
       "    <tr>\n",
       "      <th>and</th>\n",
       "      <td>-0.008325</td>\n",
       "      <td>-0.038029</td>\n",
       "      <td>0.041983</td>\n",
       "      <td>-0.005590</td>\n",
       "      <td>0.027060</td>\n",
       "      <td>-0.024579</td>\n",
       "      <td>0.008280</td>\n",
       "      <td>-0.016100</td>\n",
       "      <td>-0.015254</td>\n",
       "      <td>0.018695</td>\n",
       "      <td>...</td>\n",
       "      <td>-0.039387</td>\n",
       "      <td>0.028951</td>\n",
       "      <td>-0.026078</td>\n",
       "      <td>0.040126</td>\n",
       "      <td>-0.044525</td>\n",
       "      <td>-0.009593</td>\n",
       "      <td>0.035439</td>\n",
       "      <td>-0.008826</td>\n",
       "      <td>-0.017323</td>\n",
       "      <td>0.040908</td>\n",
       "    </tr>\n",
       "    <tr>\n",
       "      <th>as</th>\n",
       "      <td>-0.018923</td>\n",
       "      <td>-0.000892</td>\n",
       "      <td>0.002714</td>\n",
       "      <td>-0.003628</td>\n",
       "      <td>-0.019597</td>\n",
       "      <td>0.037494</td>\n",
       "      <td>0.004110</td>\n",
       "      <td>-0.034878</td>\n",
       "      <td>0.036167</td>\n",
       "      <td>-0.010094</td>\n",
       "      <td>...</td>\n",
       "      <td>0.014178</td>\n",
       "      <td>0.018415</td>\n",
       "      <td>-0.034193</td>\n",
       "      <td>-0.004891</td>\n",
       "      <td>-0.012376</td>\n",
       "      <td>-0.044148</td>\n",
       "      <td>0.000584</td>\n",
       "      <td>0.040901</td>\n",
       "      <td>0.046091</td>\n",
       "      <td>-0.022523</td>\n",
       "    </tr>\n",
       "  </tbody>\n",
       "</table>\n",
       "<p>5 rows × 100 columns</p>\n",
       "</div>"
      ],
      "text/plain": [
       "                0         1         2         3         4         5   \\\n",
       "deep      0.005739  0.025781 -0.027626  0.032584 -0.015444 -0.027505   \n",
       "networks -0.029679 -0.031212 -0.059531 -0.010009  0.003809 -0.062140   \n",
       "neural   -0.047497 -0.033008  0.023422  0.043261 -0.023662  0.012733   \n",
       "and      -0.008325 -0.038029  0.041983 -0.005590  0.027060 -0.024579   \n",
       "as       -0.018923 -0.000892  0.002714 -0.003628 -0.019597  0.037494   \n",
       "\n",
       "                6         7         8         9   ...        90        91  \\\n",
       "deep      0.041894  0.056641 -0.017809 -0.003654  ...  0.042867  0.017867   \n",
       "networks -0.012975  0.041037 -0.019199 -0.035740  ...  0.050795 -0.019556   \n",
       "neural   -0.022073 -0.033177 -0.008469 -0.049070  ...  0.009073  0.023202   \n",
       "and       0.008280 -0.016100 -0.015254  0.018695  ... -0.039387  0.028951   \n",
       "as        0.004110 -0.034878  0.036167 -0.010094  ...  0.014178  0.018415   \n",
       "\n",
       "                92        93        94        95        96        97  \\\n",
       "deep     -0.036256  0.057751 -0.040862 -0.042978 -0.017873 -0.030481   \n",
       "networks -0.020374  0.009510  0.021349  0.012413  0.008800 -0.059738   \n",
       "neural    0.034181  0.023957 -0.000832  0.040245 -0.037643 -0.010673   \n",
       "and      -0.026078  0.040126 -0.044525 -0.009593  0.035439 -0.008826   \n",
       "as       -0.034193 -0.004891 -0.012376 -0.044148  0.000584  0.040901   \n",
       "\n",
       "                98        99  \n",
       "deep     -0.064871 -0.017290  \n",
       "networks  0.025378 -0.005009  \n",
       "neural   -0.024790 -0.031705  \n",
       "and      -0.017323  0.040908  \n",
       "as        0.046091 -0.022523  \n",
       "\n",
       "[5 rows x 100 columns]"
      ]
     },
     "execution_count": 9,
     "metadata": {},
     "output_type": "execute_result"
    }
   ],
   "source": [
    "# Get the word embedding weights from the trained CBOW model\n",
    "weights = cbow.get_weights()[0]\n",
    "\n",
    "# Exclude the first row, which corresponds to the 'PAD' token\n",
    "weights = weights[1:]\n",
    "\n",
    "# Print the shape of the word embedding weights\n",
    "print(weights.shape)\n",
    "\n",
    "# Create a DataFrame to display the word embeddings with word labels\n",
    "word_embeddings_df = pd.DataFrame(weights, index=list(id2word.values())[1:])\n",
    "word_embeddings_df.head()"
   ]
  },
  {
   "cell_type": "code",
   "execution_count": 10,
   "id": "c8f3a582",
   "metadata": {},
   "outputs": [
    {
     "name": "stdout",
     "output_type": "stream",
     "text": [
      "(74, 74)\n"
     ]
    },
    {
     "data": {
      "text/plain": [
       "{'deep': ['methods', 'learning', 'speech', 'networks', 'science']}"
      ]
     },
     "execution_count": 10,
     "metadata": {},
     "output_type": "execute_result"
    }
   ],
   "source": [
    "from sklearn.metrics.pairwise import euclidean_distances\n",
    "\n",
    "distance_matrix = euclidean_distances(weights)\n",
    "print(distance_matrix.shape)\n",
    "\n",
    "similar_words = {search_term: [id2word[idx] for idx in distance_matrix[word2id[search_term]-1].argsort()[1:6]+1]\n",
    "                   for search_term in ['deep']}\n",
    "\n",
    "similar_words"
   ]
  },
  {
   "cell_type": "code",
   "execution_count": 11,
   "id": "e16824bc",
   "metadata": {},
   "outputs": [
    {
     "name": "stdout",
     "output_type": "stream",
     "text": [
      "(74, 74)\n"
     ]
    },
    {
     "data": {
      "text/plain": [
       "{'deep': ['methods', 'learning', 'speech', 'networks', 'science']}"
      ]
     },
     "execution_count": 11,
     "metadata": {},
     "output_type": "execute_result"
    }
   ],
   "source": [
    "# Calculate the Euclidean distances between word embeddings\n",
    "from sklearn.metrics.pairwise import euclidean_distances\n",
    "distance_matrix = euclidean_distances(weights)\n",
    "\n",
    "# Print the shape of the distance matrix\n",
    "print(distance_matrix.shape)\n",
    "\n",
    "# Find similar words for a specific search term, e.g., 'deep'\n",
    "similar_words = {\n",
    "    search_term: [id2word[idx] for idx in distance_matrix[word2id[search_term] - 1].argsort()[1:6] + 1]\n",
    "    for search_term in ['deep']\n",
    "}\n",
    "\n",
    "# Print the similar words for the search term\n",
    "similar_words"
   ]
  },
  {
   "cell_type": "code",
   "execution_count": null,
   "id": "baba0fe0",
   "metadata": {},
   "outputs": [],
   "source": []
  }
 ],
 "metadata": {
  "kernelspec": {
   "display_name": "Python 3 (ipykernel)",
   "language": "python",
   "name": "python3"
  },
  "language_info": {
   "codemirror_mode": {
    "name": "ipython",
    "version": 3
   },
   "file_extension": ".py",
   "mimetype": "text/x-python",
   "name": "python",
   "nbconvert_exporter": "python",
   "pygments_lexer": "ipython3",
   "version": "3.11.5"
  }
 },
 "nbformat": 4,
 "nbformat_minor": 5
}
